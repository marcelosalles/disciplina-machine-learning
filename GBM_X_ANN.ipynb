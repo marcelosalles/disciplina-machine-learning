{
 "cells": [
  {
   "cell_type": "code",
   "execution_count": 5,
   "metadata": {
    "executionInfo": {
     "elapsed": 1404,
     "status": "ok",
     "timestamp": 1614770211469,
     "user": {
      "displayName": "Marcelo Salles Olinger",
      "photoUrl": "",
      "userId": "03850783712235704393"
     },
     "user_tz": 180
    },
    "id": "wMz3u4QF7a3-"
   },
   "outputs": [],
   "source": [
    "%matplotlib inline"
   ]
  },
  {
   "cell_type": "code",
   "execution_count": 6,
   "metadata": {
    "executionInfo": {
     "elapsed": 1578,
     "status": "ok",
     "timestamp": 1614770212151,
     "user": {
      "displayName": "Marcelo Salles Olinger",
      "photoUrl": "",
      "userId": "03850783712235704393"
     },
     "user_tz": 180
    },
    "id": "40vkMM5aAyIe"
   },
   "outputs": [],
   "source": [
    "import pandas as pd"
   ]
  },
  {
   "cell_type": "markdown",
   "metadata": {
    "id": "qOcDcOXJMUZt"
   },
   "source": [
    "# Organizando o DataFrame"
   ]
  },
  {
   "cell_type": "code",
   "execution_count": 176,
   "metadata": {
    "colab": {
     "base_uri": "https://localhost:8080/",
     "height": 317
    },
    "executionInfo": {
     "elapsed": 3177,
     "status": "ok",
     "timestamp": 1614770214716,
     "user": {
      "displayName": "Marcelo Salles Olinger",
      "photoUrl": "",
      "userId": "03850783712235704393"
     },
     "user_tz": 180
    },
    "id": "vSXD6DahA02l",
    "outputId": "62b346df-9f92-4474-d297-78307c6ad31a"
   },
   "outputs": [
    {
     "data": {
      "text/html": [
       "<div>\n",
       "<style scoped>\n",
       "    .dataframe tbody tr th:only-of-type {\n",
       "        vertical-align: middle;\n",
       "    }\n",
       "\n",
       "    .dataframe tbody tr th {\n",
       "        vertical-align: top;\n",
       "    }\n",
       "\n",
       "    .dataframe thead th {\n",
       "        text-align: right;\n",
       "    }\n",
       "</style>\n",
       "<table border=\"1\" class=\"dataframe\">\n",
       "  <thead>\n",
       "    <tr style=\"text-align: right;\">\n",
       "      <th></th>\n",
       "      <th>area</th>\n",
       "      <th>ratio</th>\n",
       "      <th>height</th>\n",
       "      <th>azimuth</th>\n",
       "      <th>shell_wall</th>\n",
       "      <th>abs_wall</th>\n",
       "      <th>shell_roof</th>\n",
       "      <th>abs_roof</th>\n",
       "      <th>wwr_liv</th>\n",
       "      <th>wwr_dorm</th>\n",
       "      <th>u_window</th>\n",
       "      <th>shgc</th>\n",
       "      <th>open_factor</th>\n",
       "      <th>blind</th>\n",
       "      <th>mirror</th>\n",
       "      <th>dbt</th>\n",
       "      <th>phft</th>\n",
       "      <th>cgtt</th>\n",
       "    </tr>\n",
       "  </thead>\n",
       "  <tbody>\n",
       "    <tr>\n",
       "      <th>count</th>\n",
       "      <td>46696.000000</td>\n",
       "      <td>46696.000000</td>\n",
       "      <td>46696.000000</td>\n",
       "      <td>46696.000000</td>\n",
       "      <td>46696.000000</td>\n",
       "      <td>46696.000000</td>\n",
       "      <td>46696.000000</td>\n",
       "      <td>46696.000000</td>\n",
       "      <td>46696.000000</td>\n",
       "      <td>46696.000000</td>\n",
       "      <td>46696.000000</td>\n",
       "      <td>46696.000000</td>\n",
       "      <td>46696.000000</td>\n",
       "      <td>46696.000000</td>\n",
       "      <td>46696.000000</td>\n",
       "      <td>46696.000000</td>\n",
       "      <td>46696.000000</td>\n",
       "      <td>46696.000000</td>\n",
       "    </tr>\n",
       "    <tr>\n",
       "      <th>mean</th>\n",
       "      <td>99.978511</td>\n",
       "      <td>1.250207</td>\n",
       "      <td>2.999561</td>\n",
       "      <td>179.815230</td>\n",
       "      <td>3.500578</td>\n",
       "      <td>0.499902</td>\n",
       "      <td>2.499829</td>\n",
       "      <td>0.499911</td>\n",
       "      <td>0.499984</td>\n",
       "      <td>0.499829</td>\n",
       "      <td>4.249745</td>\n",
       "      <td>0.545054</td>\n",
       "      <td>0.649916</td>\n",
       "      <td>0.500000</td>\n",
       "      <td>0.500021</td>\n",
       "      <td>19.545268</td>\n",
       "      <td>62.510914</td>\n",
       "      <td>53.220002</td>\n",
       "    </tr>\n",
       "    <tr>\n",
       "      <th>std</th>\n",
       "      <td>30.036140</td>\n",
       "      <td>0.450105</td>\n",
       "      <td>0.300225</td>\n",
       "      <td>108.073401</td>\n",
       "      <td>1.708278</td>\n",
       "      <td>0.180116</td>\n",
       "      <td>1.118103</td>\n",
       "      <td>0.180159</td>\n",
       "      <td>0.180149</td>\n",
       "      <td>0.180090</td>\n",
       "      <td>0.870443</td>\n",
       "      <td>0.195143</td>\n",
       "      <td>0.150118</td>\n",
       "      <td>0.500005</td>\n",
       "      <td>0.500005</td>\n",
       "      <td>5.231057</td>\n",
       "      <td>24.477613</td>\n",
       "      <td>37.651261</td>\n",
       "    </tr>\n",
       "    <tr>\n",
       "      <th>min</th>\n",
       "      <td>48.050781</td>\n",
       "      <td>0.470381</td>\n",
       "      <td>2.480254</td>\n",
       "      <td>-7.108594</td>\n",
       "      <td>1.000000</td>\n",
       "      <td>0.188305</td>\n",
       "      <td>1.000000</td>\n",
       "      <td>0.188305</td>\n",
       "      <td>0.188305</td>\n",
       "      <td>0.188152</td>\n",
       "      <td>2.742736</td>\n",
       "      <td>0.207330</td>\n",
       "      <td>0.390254</td>\n",
       "      <td>0.000000</td>\n",
       "      <td>0.000000</td>\n",
       "      <td>10.833984</td>\n",
       "      <td>0.000000</td>\n",
       "      <td>0.000000</td>\n",
       "    </tr>\n",
       "    <tr>\n",
       "      <th>25%</th>\n",
       "      <td>73.949219</td>\n",
       "      <td>0.860381</td>\n",
       "      <td>2.739492</td>\n",
       "      <td>86.217187</td>\n",
       "      <td>2.000000</td>\n",
       "      <td>0.343695</td>\n",
       "      <td>1.000000</td>\n",
       "      <td>0.344305</td>\n",
       "      <td>0.344305</td>\n",
       "      <td>0.344152</td>\n",
       "      <td>3.496368</td>\n",
       "      <td>0.375835</td>\n",
       "      <td>0.520254</td>\n",
       "      <td>0.000000</td>\n",
       "      <td>0.000000</td>\n",
       "      <td>15.277763</td>\n",
       "      <td>52.107500</td>\n",
       "      <td>25.408398</td>\n",
       "    </tr>\n",
       "    <tr>\n",
       "      <th>50%</th>\n",
       "      <td>100.050781</td>\n",
       "      <td>1.250381</td>\n",
       "      <td>3.000254</td>\n",
       "      <td>179.817187</td>\n",
       "      <td>3.000000</td>\n",
       "      <td>0.499695</td>\n",
       "      <td>3.000000</td>\n",
       "      <td>0.500305</td>\n",
       "      <td>0.500305</td>\n",
       "      <td>0.499924</td>\n",
       "      <td>4.249264</td>\n",
       "      <td>0.545330</td>\n",
       "      <td>0.649746</td>\n",
       "      <td>0.500000</td>\n",
       "      <td>1.000000</td>\n",
       "      <td>19.550091</td>\n",
       "      <td>67.800000</td>\n",
       "      <td>43.156679</td>\n",
       "    </tr>\n",
       "    <tr>\n",
       "      <th>75%</th>\n",
       "      <td>125.949219</td>\n",
       "      <td>1.640381</td>\n",
       "      <td>3.259746</td>\n",
       "      <td>273.417188</td>\n",
       "      <td>5.000000</td>\n",
       "      <td>0.655695</td>\n",
       "      <td>3.000000</td>\n",
       "      <td>0.656305</td>\n",
       "      <td>0.656305</td>\n",
       "      <td>0.656152</td>\n",
       "      <td>5.003264</td>\n",
       "      <td>0.713835</td>\n",
       "      <td>0.780254</td>\n",
       "      <td>1.000000</td>\n",
       "      <td>1.000000</td>\n",
       "      <td>24.056050</td>\n",
       "      <td>80.750000</td>\n",
       "      <td>72.447225</td>\n",
       "    </tr>\n",
       "    <tr>\n",
       "      <th>max</th>\n",
       "      <td>151.949219</td>\n",
       "      <td>2.029238</td>\n",
       "      <td>3.519746</td>\n",
       "      <td>367.017187</td>\n",
       "      <td>6.000000</td>\n",
       "      <td>0.811695</td>\n",
       "      <td>4.000000</td>\n",
       "      <td>0.811695</td>\n",
       "      <td>0.811695</td>\n",
       "      <td>0.811695</td>\n",
       "      <td>5.757264</td>\n",
       "      <td>0.882835</td>\n",
       "      <td>0.909746</td>\n",
       "      <td>1.000000</td>\n",
       "      <td>1.000000</td>\n",
       "      <td>28.240114</td>\n",
       "      <td>100.000000</td>\n",
       "      <td>235.467685</td>\n",
       "    </tr>\n",
       "  </tbody>\n",
       "</table>\n",
       "</div>"
      ],
      "text/plain": [
       "               area         ratio        height       azimuth    shell_wall  \\\n",
       "count  46696.000000  46696.000000  46696.000000  46696.000000  46696.000000   \n",
       "mean      99.978511      1.250207      2.999561    179.815230      3.500578   \n",
       "std       30.036140      0.450105      0.300225    108.073401      1.708278   \n",
       "min       48.050781      0.470381      2.480254     -7.108594      1.000000   \n",
       "25%       73.949219      0.860381      2.739492     86.217187      2.000000   \n",
       "50%      100.050781      1.250381      3.000254    179.817187      3.000000   \n",
       "75%      125.949219      1.640381      3.259746    273.417188      5.000000   \n",
       "max      151.949219      2.029238      3.519746    367.017187      6.000000   \n",
       "\n",
       "           abs_wall    shell_roof      abs_roof       wwr_liv      wwr_dorm  \\\n",
       "count  46696.000000  46696.000000  46696.000000  46696.000000  46696.000000   \n",
       "mean       0.499902      2.499829      0.499911      0.499984      0.499829   \n",
       "std        0.180116      1.118103      0.180159      0.180149      0.180090   \n",
       "min        0.188305      1.000000      0.188305      0.188305      0.188152   \n",
       "25%        0.343695      1.000000      0.344305      0.344305      0.344152   \n",
       "50%        0.499695      3.000000      0.500305      0.500305      0.499924   \n",
       "75%        0.655695      3.000000      0.656305      0.656305      0.656152   \n",
       "max        0.811695      4.000000      0.811695      0.811695      0.811695   \n",
       "\n",
       "           u_window          shgc   open_factor         blind        mirror  \\\n",
       "count  46696.000000  46696.000000  46696.000000  46696.000000  46696.000000   \n",
       "mean       4.249745      0.545054      0.649916      0.500000      0.500021   \n",
       "std        0.870443      0.195143      0.150118      0.500005      0.500005   \n",
       "min        2.742736      0.207330      0.390254      0.000000      0.000000   \n",
       "25%        3.496368      0.375835      0.520254      0.000000      0.000000   \n",
       "50%        4.249264      0.545330      0.649746      0.500000      1.000000   \n",
       "75%        5.003264      0.713835      0.780254      1.000000      1.000000   \n",
       "max        5.757264      0.882835      0.909746      1.000000      1.000000   \n",
       "\n",
       "                dbt          phft          cgtt  \n",
       "count  46696.000000  46696.000000  46696.000000  \n",
       "mean      19.545268     62.510914     53.220002  \n",
       "std        5.231057     24.477613     37.651261  \n",
       "min       10.833984      0.000000      0.000000  \n",
       "25%       15.277763     52.107500     25.408398  \n",
       "50%       19.550091     67.800000     43.156679  \n",
       "75%       24.056050     80.750000     72.447225  \n",
       "max       28.240114    100.000000    235.467685  "
      ]
     },
     "execution_count": 176,
     "metadata": {},
     "output_type": "execute_result"
    }
   ],
   "source": [
    "df = pd.read_csv('https://drive.google.com/uc?export=download&id=1XROGI9ZaUX711MjWiyEMv4U84lZFUcGW')\n",
    "\n",
    "df.describe()"
   ]
  },
  {
   "cell_type": "code",
   "execution_count": 177,
   "metadata": {
    "colab": {
     "base_uri": "https://localhost:8080/",
     "height": 224
    },
    "executionInfo": {
     "elapsed": 1696,
     "status": "ok",
     "timestamp": 1614770214716,
     "user": {
      "displayName": "Marcelo Salles Olinger",
      "photoUrl": "",
      "userId": "03850783712235704393"
     },
     "user_tz": 180
    },
    "id": "-CTJ28x_G4eU",
    "outputId": "aed6fdaa-69c8-42ff-cb9b-d0e91f1e01d6"
   },
   "outputs": [
    {
     "data": {
      "text/html": [
       "<div>\n",
       "<style scoped>\n",
       "    .dataframe tbody tr th:only-of-type {\n",
       "        vertical-align: middle;\n",
       "    }\n",
       "\n",
       "    .dataframe tbody tr th {\n",
       "        vertical-align: top;\n",
       "    }\n",
       "\n",
       "    .dataframe thead th {\n",
       "        text-align: right;\n",
       "    }\n",
       "</style>\n",
       "<table border=\"1\" class=\"dataframe\">\n",
       "  <thead>\n",
       "    <tr style=\"text-align: right;\">\n",
       "      <th></th>\n",
       "      <th>area</th>\n",
       "      <th>ratio</th>\n",
       "      <th>height</th>\n",
       "      <th>azimuth</th>\n",
       "      <th>shell_wall</th>\n",
       "      <th>abs_wall</th>\n",
       "      <th>shell_roof</th>\n",
       "      <th>abs_roof</th>\n",
       "      <th>wwr_liv</th>\n",
       "      <th>wwr_dorm</th>\n",
       "      <th>u_window</th>\n",
       "      <th>shgc</th>\n",
       "      <th>open_factor</th>\n",
       "      <th>blind</th>\n",
       "      <th>mirror</th>\n",
       "      <th>dbt</th>\n",
       "    </tr>\n",
       "  </thead>\n",
       "  <tbody>\n",
       "    <tr>\n",
       "      <th>0</th>\n",
       "      <td>70.851562</td>\n",
       "      <td>0.620820</td>\n",
       "      <td>3.019297</td>\n",
       "      <td>246.178125</td>\n",
       "      <td>2</td>\n",
       "      <td>0.754109</td>\n",
       "      <td>1</td>\n",
       "      <td>0.749234</td>\n",
       "      <td>0.500609</td>\n",
       "      <td>0.231266</td>\n",
       "      <td>2.998242</td>\n",
       "      <td>0.379301</td>\n",
       "      <td>0.473789</td>\n",
       "      <td>0</td>\n",
       "      <td>0</td>\n",
       "      <td>17.176324</td>\n",
       "    </tr>\n",
       "    <tr>\n",
       "      <th>1</th>\n",
       "      <td>122.851562</td>\n",
       "      <td>0.620820</td>\n",
       "      <td>3.019297</td>\n",
       "      <td>246.178125</td>\n",
       "      <td>2</td>\n",
       "      <td>0.754109</td>\n",
       "      <td>1</td>\n",
       "      <td>0.749234</td>\n",
       "      <td>0.500609</td>\n",
       "      <td>0.231266</td>\n",
       "      <td>2.998242</td>\n",
       "      <td>0.379301</td>\n",
       "      <td>0.473789</td>\n",
       "      <td>0</td>\n",
       "      <td>0</td>\n",
       "      <td>17.176324</td>\n",
       "    </tr>\n",
       "    <tr>\n",
       "      <th>2</th>\n",
       "      <td>70.851562</td>\n",
       "      <td>1.007773</td>\n",
       "      <td>3.019297</td>\n",
       "      <td>246.178125</td>\n",
       "      <td>2</td>\n",
       "      <td>0.754109</td>\n",
       "      <td>1</td>\n",
       "      <td>0.749234</td>\n",
       "      <td>0.500609</td>\n",
       "      <td>0.231266</td>\n",
       "      <td>2.998242</td>\n",
       "      <td>0.379301</td>\n",
       "      <td>0.473789</td>\n",
       "      <td>0</td>\n",
       "      <td>0</td>\n",
       "      <td>17.176324</td>\n",
       "    </tr>\n",
       "    <tr>\n",
       "      <th>3</th>\n",
       "      <td>70.851562</td>\n",
       "      <td>0.620820</td>\n",
       "      <td>3.510859</td>\n",
       "      <td>246.178125</td>\n",
       "      <td>2</td>\n",
       "      <td>0.754109</td>\n",
       "      <td>1</td>\n",
       "      <td>0.749234</td>\n",
       "      <td>0.500609</td>\n",
       "      <td>0.231266</td>\n",
       "      <td>2.998242</td>\n",
       "      <td>0.379301</td>\n",
       "      <td>0.473789</td>\n",
       "      <td>0</td>\n",
       "      <td>0</td>\n",
       "      <td>17.176324</td>\n",
       "    </tr>\n",
       "    <tr>\n",
       "      <th>4</th>\n",
       "      <td>70.851562</td>\n",
       "      <td>0.620820</td>\n",
       "      <td>3.019297</td>\n",
       "      <td>264.459375</td>\n",
       "      <td>2</td>\n",
       "      <td>0.754109</td>\n",
       "      <td>1</td>\n",
       "      <td>0.749234</td>\n",
       "      <td>0.500609</td>\n",
       "      <td>0.231266</td>\n",
       "      <td>2.998242</td>\n",
       "      <td>0.379301</td>\n",
       "      <td>0.473789</td>\n",
       "      <td>0</td>\n",
       "      <td>0</td>\n",
       "      <td>17.176324</td>\n",
       "    </tr>\n",
       "  </tbody>\n",
       "</table>\n",
       "</div>"
      ],
      "text/plain": [
       "         area     ratio    height     azimuth  shell_wall  abs_wall  \\\n",
       "0   70.851562  0.620820  3.019297  246.178125           2  0.754109   \n",
       "1  122.851562  0.620820  3.019297  246.178125           2  0.754109   \n",
       "2   70.851562  1.007773  3.019297  246.178125           2  0.754109   \n",
       "3   70.851562  0.620820  3.510859  246.178125           2  0.754109   \n",
       "4   70.851562  0.620820  3.019297  264.459375           2  0.754109   \n",
       "\n",
       "   shell_roof  abs_roof   wwr_liv  wwr_dorm  u_window      shgc  open_factor  \\\n",
       "0           1  0.749234  0.500609  0.231266  2.998242  0.379301     0.473789   \n",
       "1           1  0.749234  0.500609  0.231266  2.998242  0.379301     0.473789   \n",
       "2           1  0.749234  0.500609  0.231266  2.998242  0.379301     0.473789   \n",
       "3           1  0.749234  0.500609  0.231266  2.998242  0.379301     0.473789   \n",
       "4           1  0.749234  0.500609  0.231266  2.998242  0.379301     0.473789   \n",
       "\n",
       "   blind  mirror        dbt  \n",
       "0      0       0  17.176324  \n",
       "1      0       0  17.176324  \n",
       "2      0       0  17.176324  \n",
       "3      0       0  17.176324  \n",
       "4      0       0  17.176324  "
      ]
     },
     "execution_count": 177,
     "metadata": {},
     "output_type": "execute_result"
    }
   ],
   "source": [
    "# phft e cgtt são outputs\n",
    "df[df.columns[:-2]].head()"
   ]
  },
  {
   "cell_type": "code",
   "execution_count": 178,
   "metadata": {
    "colab": {
     "base_uri": "https://localhost:8080/"
    },
    "executionInfo": {
     "elapsed": 1601,
     "status": "ok",
     "timestamp": 1614770215350,
     "user": {
      "displayName": "Marcelo Salles Olinger",
      "photoUrl": "",
      "userId": "03850783712235704393"
     },
     "user_tz": 180
    },
    "id": "UTbIXzebHJ9C",
    "outputId": "951ee2fc-bf36-48ed-ea4a-24060a039717"
   },
   "outputs": [
    {
     "data": {
      "text/plain": [
       "0    50.950282\n",
       "1    43.714164\n",
       "2    49.524904\n",
       "3    56.321885\n",
       "4    50.948126\n",
       "Name: cgtt, dtype: float64"
      ]
     },
     "execution_count": 178,
     "metadata": {},
     "output_type": "execute_result"
    }
   ],
   "source": [
    "# o output do metamodelo será cgtt\n",
    "df[df.columns[-1]].head()"
   ]
  },
  {
   "cell_type": "code",
   "execution_count": 179,
   "metadata": {
    "executionInfo": {
     "elapsed": 1310,
     "status": "ok",
     "timestamp": 1614770215766,
     "user": {
      "displayName": "Marcelo Salles Olinger",
      "photoUrl": "",
      "userId": "03850783712235704393"
     },
     "user_tz": 180
    },
    "id": "eyBZ3ld1HSoc"
   },
   "outputs": [],
   "source": [
    "# assim, separa-se as features e targets\n",
    "\n",
    "features = df.copy()[df.columns[:-2]]\n",
    "target = df.copy()[df.columns[-1]]"
   ]
  },
  {
   "cell_type": "markdown",
   "metadata": {},
   "source": [
    "## Padronizações e transformações para RNA"
   ]
  },
  {
   "cell_type": "code",
   "execution_count": 180,
   "metadata": {
    "executionInfo": {
     "elapsed": 860,
     "status": "ok",
     "timestamp": 1614770217594,
     "user": {
      "displayName": "Marcelo Salles Olinger",
      "photoUrl": "",
      "userId": "03850783712235704393"
     },
     "user_tz": 180
    },
    "id": "fURqQsxVNt_4"
   },
   "outputs": [],
   "source": [
    "# defining which features are qualitative and quantitative\n",
    "\n",
    "qualitative = ['shell_wall','shell_roof','blind','mirror']\n",
    "quantitative = ['area','ratio','height','azimuth','abs_wall','abs_roof','wwr_liv','wwr_dorm','u_window','shgc','open_factor','dbt']"
   ]
  },
  {
   "cell_type": "code",
   "execution_count": 181,
   "metadata": {
    "executionInfo": {
     "elapsed": 777,
     "status": "ok",
     "timestamp": 1614770218456,
     "user": {
      "displayName": "Marcelo Salles Olinger",
      "photoUrl": "",
      "userId": "03850783712235704393"
     },
     "user_tz": 180
    },
    "id": "PnAAUfV1PG55"
   },
   "outputs": [],
   "source": [
    "def z_score_normalize(series):\n",
    "  mean = series.mean()\n",
    "  std_dv = series.std()\n",
    "  return series.apply(lambda x:(x - mean) / std_dv)"
   ]
  },
  {
   "cell_type": "code",
   "execution_count": 182,
   "metadata": {
    "colab": {
     "base_uri": "https://localhost:8080/",
     "height": 224
    },
    "executionInfo": {
     "elapsed": 1154,
     "status": "ok",
     "timestamp": 1614770219777,
     "user": {
      "displayName": "Marcelo Salles Olinger",
      "photoUrl": "",
      "userId": "03850783712235704393"
     },
     "user_tz": 180
    },
    "id": "jIMnIYx4OjuG",
    "outputId": "868d89c2-8729-449b-f37f-462f5522c6a3"
   },
   "outputs": [
    {
     "data": {
      "text/html": [
       "<div>\n",
       "<style scoped>\n",
       "    .dataframe tbody tr th:only-of-type {\n",
       "        vertical-align: middle;\n",
       "    }\n",
       "\n",
       "    .dataframe tbody tr th {\n",
       "        vertical-align: top;\n",
       "    }\n",
       "\n",
       "    .dataframe thead th {\n",
       "        text-align: right;\n",
       "    }\n",
       "</style>\n",
       "<table border=\"1\" class=\"dataframe\">\n",
       "  <thead>\n",
       "    <tr style=\"text-align: right;\">\n",
       "      <th></th>\n",
       "      <th>area</th>\n",
       "      <th>ratio</th>\n",
       "      <th>height</th>\n",
       "      <th>azimuth</th>\n",
       "      <th>shell_wall</th>\n",
       "      <th>abs_wall</th>\n",
       "      <th>shell_roof</th>\n",
       "      <th>abs_roof</th>\n",
       "      <th>wwr_liv</th>\n",
       "      <th>wwr_dorm</th>\n",
       "      <th>u_window</th>\n",
       "      <th>shgc</th>\n",
       "      <th>open_factor</th>\n",
       "      <th>blind</th>\n",
       "      <th>mirror</th>\n",
       "      <th>dbt</th>\n",
       "    </tr>\n",
       "  </thead>\n",
       "  <tbody>\n",
       "    <tr>\n",
       "      <th>0</th>\n",
       "      <td>-0.969730</td>\n",
       "      <td>-1.398313</td>\n",
       "      <td>0.065737</td>\n",
       "      <td>0.614054</td>\n",
       "      <td>2</td>\n",
       "      <td>1.411355</td>\n",
       "      <td>1</td>\n",
       "      <td>1.38391</td>\n",
       "      <td>0.003472</td>\n",
       "      <td>-1.491269</td>\n",
       "      <td>-1.437777</td>\n",
       "      <td>-0.849393</td>\n",
       "      <td>-1.173257</td>\n",
       "      <td>0</td>\n",
       "      <td>0</td>\n",
       "      <td>-0.452861</td>\n",
       "    </tr>\n",
       "    <tr>\n",
       "      <th>1</th>\n",
       "      <td>0.761518</td>\n",
       "      <td>-1.398313</td>\n",
       "      <td>0.065737</td>\n",
       "      <td>0.614054</td>\n",
       "      <td>2</td>\n",
       "      <td>1.411355</td>\n",
       "      <td>1</td>\n",
       "      <td>1.38391</td>\n",
       "      <td>0.003472</td>\n",
       "      <td>-1.491269</td>\n",
       "      <td>-1.437777</td>\n",
       "      <td>-0.849393</td>\n",
       "      <td>-1.173257</td>\n",
       "      <td>0</td>\n",
       "      <td>0</td>\n",
       "      <td>-0.452861</td>\n",
       "    </tr>\n",
       "    <tr>\n",
       "      <th>2</th>\n",
       "      <td>-0.969730</td>\n",
       "      <td>-0.538617</td>\n",
       "      <td>0.065737</td>\n",
       "      <td>0.614054</td>\n",
       "      <td>2</td>\n",
       "      <td>1.411355</td>\n",
       "      <td>1</td>\n",
       "      <td>1.38391</td>\n",
       "      <td>0.003472</td>\n",
       "      <td>-1.491269</td>\n",
       "      <td>-1.437777</td>\n",
       "      <td>-0.849393</td>\n",
       "      <td>-1.173257</td>\n",
       "      <td>0</td>\n",
       "      <td>0</td>\n",
       "      <td>-0.452861</td>\n",
       "    </tr>\n",
       "    <tr>\n",
       "      <th>3</th>\n",
       "      <td>-0.969730</td>\n",
       "      <td>-1.398313</td>\n",
       "      <td>1.703052</td>\n",
       "      <td>0.614054</td>\n",
       "      <td>2</td>\n",
       "      <td>1.411355</td>\n",
       "      <td>1</td>\n",
       "      <td>1.38391</td>\n",
       "      <td>0.003472</td>\n",
       "      <td>-1.491269</td>\n",
       "      <td>-1.437777</td>\n",
       "      <td>-0.849393</td>\n",
       "      <td>-1.173257</td>\n",
       "      <td>0</td>\n",
       "      <td>0</td>\n",
       "      <td>-0.452861</td>\n",
       "    </tr>\n",
       "    <tr>\n",
       "      <th>4</th>\n",
       "      <td>-0.969730</td>\n",
       "      <td>-1.398313</td>\n",
       "      <td>0.065737</td>\n",
       "      <td>0.783210</td>\n",
       "      <td>2</td>\n",
       "      <td>1.411355</td>\n",
       "      <td>1</td>\n",
       "      <td>1.38391</td>\n",
       "      <td>0.003472</td>\n",
       "      <td>-1.491269</td>\n",
       "      <td>-1.437777</td>\n",
       "      <td>-0.849393</td>\n",
       "      <td>-1.173257</td>\n",
       "      <td>0</td>\n",
       "      <td>0</td>\n",
       "      <td>-0.452861</td>\n",
       "    </tr>\n",
       "  </tbody>\n",
       "</table>\n",
       "</div>"
      ],
      "text/plain": [
       "       area     ratio    height   azimuth  shell_wall  abs_wall  shell_roof  \\\n",
       "0 -0.969730 -1.398313  0.065737  0.614054           2  1.411355           1   \n",
       "1  0.761518 -1.398313  0.065737  0.614054           2  1.411355           1   \n",
       "2 -0.969730 -0.538617  0.065737  0.614054           2  1.411355           1   \n",
       "3 -0.969730 -1.398313  1.703052  0.614054           2  1.411355           1   \n",
       "4 -0.969730 -1.398313  0.065737  0.783210           2  1.411355           1   \n",
       "\n",
       "   abs_roof   wwr_liv  wwr_dorm  u_window      shgc  open_factor  blind  \\\n",
       "0   1.38391  0.003472 -1.491269 -1.437777 -0.849393    -1.173257      0   \n",
       "1   1.38391  0.003472 -1.491269 -1.437777 -0.849393    -1.173257      0   \n",
       "2   1.38391  0.003472 -1.491269 -1.437777 -0.849393    -1.173257      0   \n",
       "3   1.38391  0.003472 -1.491269 -1.437777 -0.849393    -1.173257      0   \n",
       "4   1.38391  0.003472 -1.491269 -1.437777 -0.849393    -1.173257      0   \n",
       "\n",
       "   mirror       dbt  \n",
       "0       0 -0.452861  \n",
       "1       0 -0.452861  \n",
       "2       0 -0.452861  \n",
       "3       0 -0.452861  \n",
       "4       0 -0.452861  "
      ]
     },
     "execution_count": 182,
     "metadata": {},
     "output_type": "execute_result"
    }
   ],
   "source": [
    "for col in quantitative:\n",
    "  features[col] = z_score_normalize(features[col])\n",
    "\n",
    "features.head()"
   ]
  },
  {
   "cell_type": "code",
   "execution_count": 183,
   "metadata": {
    "executionInfo": {
     "elapsed": 923,
     "status": "ok",
     "timestamp": 1614770220290,
     "user": {
      "displayName": "Marcelo Salles Olinger",
      "photoUrl": "",
      "userId": "03850783712235704393"
     },
     "user_tz": 180
    },
    "id": "CdCKKQ7ddOgz"
   },
   "outputs": [],
   "source": [
    "for col in qualitative:\n",
    "\n",
    "  unique = sorted(features[col].unique())\n",
    "  \n",
    "  for i in range(len(unique)-1):\n",
    "    new_col = col+f'_{unique[i]}'\n",
    "    features[new_col] = features[col].apply(lambda x: 1 if x == unique[i] else 0)\n",
    "  features = features.drop(col, 1)"
   ]
  },
  {
   "cell_type": "markdown",
   "metadata": {},
   "source": [
    "## Conferindo dataframe, definindo features e targets"
   ]
  },
  {
   "cell_type": "code",
   "execution_count": 184,
   "metadata": {
    "colab": {
     "base_uri": "https://localhost:8080/",
     "height": 224
    },
    "executionInfo": {
     "elapsed": 754,
     "status": "ok",
     "timestamp": 1614770220998,
     "user": {
      "displayName": "Marcelo Salles Olinger",
      "photoUrl": "",
      "userId": "03850783712235704393"
     },
     "user_tz": 180
    },
    "id": "Z1eIVM1fe-QM",
    "outputId": "7eeec52f-eb43-49f9-b2fd-81b264229dd0"
   },
   "outputs": [
    {
     "data": {
      "text/html": [
       "<div>\n",
       "<style scoped>\n",
       "    .dataframe tbody tr th:only-of-type {\n",
       "        vertical-align: middle;\n",
       "    }\n",
       "\n",
       "    .dataframe tbody tr th {\n",
       "        vertical-align: top;\n",
       "    }\n",
       "\n",
       "    .dataframe thead th {\n",
       "        text-align: right;\n",
       "    }\n",
       "</style>\n",
       "<table border=\"1\" class=\"dataframe\">\n",
       "  <thead>\n",
       "    <tr style=\"text-align: right;\">\n",
       "      <th></th>\n",
       "      <th>area</th>\n",
       "      <th>ratio</th>\n",
       "      <th>height</th>\n",
       "      <th>azimuth</th>\n",
       "      <th>abs_wall</th>\n",
       "      <th>abs_roof</th>\n",
       "      <th>wwr_liv</th>\n",
       "      <th>wwr_dorm</th>\n",
       "      <th>u_window</th>\n",
       "      <th>shgc</th>\n",
       "      <th>...</th>\n",
       "      <th>shell_wall_1</th>\n",
       "      <th>shell_wall_2</th>\n",
       "      <th>shell_wall_3</th>\n",
       "      <th>shell_wall_4</th>\n",
       "      <th>shell_wall_5</th>\n",
       "      <th>shell_roof_1</th>\n",
       "      <th>shell_roof_2</th>\n",
       "      <th>shell_roof_3</th>\n",
       "      <th>blind_0</th>\n",
       "      <th>mirror_0</th>\n",
       "    </tr>\n",
       "  </thead>\n",
       "  <tbody>\n",
       "    <tr>\n",
       "      <th>0</th>\n",
       "      <td>-0.969730</td>\n",
       "      <td>-1.398313</td>\n",
       "      <td>0.065737</td>\n",
       "      <td>0.614054</td>\n",
       "      <td>1.411355</td>\n",
       "      <td>1.38391</td>\n",
       "      <td>0.003472</td>\n",
       "      <td>-1.491269</td>\n",
       "      <td>-1.437777</td>\n",
       "      <td>-0.849393</td>\n",
       "      <td>...</td>\n",
       "      <td>0</td>\n",
       "      <td>1</td>\n",
       "      <td>0</td>\n",
       "      <td>0</td>\n",
       "      <td>0</td>\n",
       "      <td>1</td>\n",
       "      <td>0</td>\n",
       "      <td>0</td>\n",
       "      <td>1</td>\n",
       "      <td>1</td>\n",
       "    </tr>\n",
       "    <tr>\n",
       "      <th>1</th>\n",
       "      <td>0.761518</td>\n",
       "      <td>-1.398313</td>\n",
       "      <td>0.065737</td>\n",
       "      <td>0.614054</td>\n",
       "      <td>1.411355</td>\n",
       "      <td>1.38391</td>\n",
       "      <td>0.003472</td>\n",
       "      <td>-1.491269</td>\n",
       "      <td>-1.437777</td>\n",
       "      <td>-0.849393</td>\n",
       "      <td>...</td>\n",
       "      <td>0</td>\n",
       "      <td>1</td>\n",
       "      <td>0</td>\n",
       "      <td>0</td>\n",
       "      <td>0</td>\n",
       "      <td>1</td>\n",
       "      <td>0</td>\n",
       "      <td>0</td>\n",
       "      <td>1</td>\n",
       "      <td>1</td>\n",
       "    </tr>\n",
       "    <tr>\n",
       "      <th>2</th>\n",
       "      <td>-0.969730</td>\n",
       "      <td>-0.538617</td>\n",
       "      <td>0.065737</td>\n",
       "      <td>0.614054</td>\n",
       "      <td>1.411355</td>\n",
       "      <td>1.38391</td>\n",
       "      <td>0.003472</td>\n",
       "      <td>-1.491269</td>\n",
       "      <td>-1.437777</td>\n",
       "      <td>-0.849393</td>\n",
       "      <td>...</td>\n",
       "      <td>0</td>\n",
       "      <td>1</td>\n",
       "      <td>0</td>\n",
       "      <td>0</td>\n",
       "      <td>0</td>\n",
       "      <td>1</td>\n",
       "      <td>0</td>\n",
       "      <td>0</td>\n",
       "      <td>1</td>\n",
       "      <td>1</td>\n",
       "    </tr>\n",
       "    <tr>\n",
       "      <th>3</th>\n",
       "      <td>-0.969730</td>\n",
       "      <td>-1.398313</td>\n",
       "      <td>1.703052</td>\n",
       "      <td>0.614054</td>\n",
       "      <td>1.411355</td>\n",
       "      <td>1.38391</td>\n",
       "      <td>0.003472</td>\n",
       "      <td>-1.491269</td>\n",
       "      <td>-1.437777</td>\n",
       "      <td>-0.849393</td>\n",
       "      <td>...</td>\n",
       "      <td>0</td>\n",
       "      <td>1</td>\n",
       "      <td>0</td>\n",
       "      <td>0</td>\n",
       "      <td>0</td>\n",
       "      <td>1</td>\n",
       "      <td>0</td>\n",
       "      <td>0</td>\n",
       "      <td>1</td>\n",
       "      <td>1</td>\n",
       "    </tr>\n",
       "    <tr>\n",
       "      <th>4</th>\n",
       "      <td>-0.969730</td>\n",
       "      <td>-1.398313</td>\n",
       "      <td>0.065737</td>\n",
       "      <td>0.783210</td>\n",
       "      <td>1.411355</td>\n",
       "      <td>1.38391</td>\n",
       "      <td>0.003472</td>\n",
       "      <td>-1.491269</td>\n",
       "      <td>-1.437777</td>\n",
       "      <td>-0.849393</td>\n",
       "      <td>...</td>\n",
       "      <td>0</td>\n",
       "      <td>1</td>\n",
       "      <td>0</td>\n",
       "      <td>0</td>\n",
       "      <td>0</td>\n",
       "      <td>1</td>\n",
       "      <td>0</td>\n",
       "      <td>0</td>\n",
       "      <td>1</td>\n",
       "      <td>1</td>\n",
       "    </tr>\n",
       "  </tbody>\n",
       "</table>\n",
       "<p>5 rows × 22 columns</p>\n",
       "</div>"
      ],
      "text/plain": [
       "       area     ratio    height   azimuth  abs_wall  abs_roof   wwr_liv  \\\n",
       "0 -0.969730 -1.398313  0.065737  0.614054  1.411355   1.38391  0.003472   \n",
       "1  0.761518 -1.398313  0.065737  0.614054  1.411355   1.38391  0.003472   \n",
       "2 -0.969730 -0.538617  0.065737  0.614054  1.411355   1.38391  0.003472   \n",
       "3 -0.969730 -1.398313  1.703052  0.614054  1.411355   1.38391  0.003472   \n",
       "4 -0.969730 -1.398313  0.065737  0.783210  1.411355   1.38391  0.003472   \n",
       "\n",
       "   wwr_dorm  u_window      shgc  ...  shell_wall_1  shell_wall_2  \\\n",
       "0 -1.491269 -1.437777 -0.849393  ...             0             1   \n",
       "1 -1.491269 -1.437777 -0.849393  ...             0             1   \n",
       "2 -1.491269 -1.437777 -0.849393  ...             0             1   \n",
       "3 -1.491269 -1.437777 -0.849393  ...             0             1   \n",
       "4 -1.491269 -1.437777 -0.849393  ...             0             1   \n",
       "\n",
       "   shell_wall_3  shell_wall_4  shell_wall_5  shell_roof_1  shell_roof_2  \\\n",
       "0             0             0             0             1             0   \n",
       "1             0             0             0             1             0   \n",
       "2             0             0             0             1             0   \n",
       "3             0             0             0             1             0   \n",
       "4             0             0             0             1             0   \n",
       "\n",
       "   shell_roof_3  blind_0  mirror_0  \n",
       "0             0        1         1  \n",
       "1             0        1         1  \n",
       "2             0        1         1  \n",
       "3             0        1         1  \n",
       "4             0        1         1  \n",
       "\n",
       "[5 rows x 22 columns]"
      ]
     },
     "execution_count": 184,
     "metadata": {},
     "output_type": "execute_result"
    }
   ],
   "source": [
    "features.head()"
   ]
  },
  {
   "cell_type": "code",
   "execution_count": 185,
   "metadata": {
    "executionInfo": {
     "elapsed": 574,
     "status": "ok",
     "timestamp": 1614770221967,
     "user": {
      "displayName": "Marcelo Salles Olinger",
      "photoUrl": "",
      "userId": "03850783712235704393"
     },
     "user_tz": 180
    },
    "id": "p80uPEvTih-W"
   },
   "outputs": [],
   "source": [
    "X = features\n",
    "y = target"
   ]
  },
  {
   "cell_type": "markdown",
   "metadata": {
    "id": "-kHkzJM57a4D"
   },
   "source": [
    "\n",
    "# Machine Learning\n"
   ]
  },
  {
   "cell_type": "code",
   "execution_count": 108,
   "metadata": {
    "colab": {
     "base_uri": "https://localhost:8080/"
    },
    "executionInfo": {
     "elapsed": 1679,
     "status": "ok",
     "timestamp": 1614770225037,
     "user": {
      "displayName": "Marcelo Salles Olinger",
      "photoUrl": "",
      "userId": "03850783712235704393"
     },
     "user_tz": 180
    },
    "id": "6TIRXpO47a4E",
    "outputId": "616dfe14-f59e-4883-f4e1-1e8495d37453"
   },
   "outputs": [],
   "source": [
    "from datetime import datetime\n",
    "import matplotlib.pyplot as plt\n",
    "import numpy as np\n",
    "from sklearn import ensemble\n",
    "from sklearn.metrics import mean_squared_error\n",
    "from sklearn.metrics import mean_absolute_error\n",
    "from sklearn.metrics import max_error\n",
    "from sklearn.metrics import r2_score\n",
    "from sklearn.model_selection import train_test_split\n",
    "from sklearn.model_selection import GridSearchCV\n",
    "from sklearn.model_selection import ParameterGrid\n",
    "from sklearn.neural_network import MLPRegressor"
   ]
  },
  {
   "cell_type": "code",
   "execution_count": 186,
   "metadata": {
    "executionInfo": {
     "elapsed": 648,
     "status": "ok",
     "timestamp": 1614770230625,
     "user": {
      "displayName": "Marcelo Salles Olinger",
      "photoUrl": "",
      "userId": "03850783712235704393"
     },
     "user_tz": 180
    },
    "id": "YZLAgVRf7a4F"
   },
   "outputs": [],
   "source": [
    "X_train, X_test, y_train, y_test = train_test_split(\n",
    "    X, y, test_size=0.1, random_state=42)"
   ]
  },
  {
   "cell_type": "markdown",
   "metadata": {
    "id": "wSqOM9ae7a4F"
   },
   "source": [
    "## Treinamento RNA"
   ]
  },
  {
   "cell_type": "code",
   "execution_count": 25,
   "metadata": {},
   "outputs": [],
   "source": [
    "params_ann = {\n",
    "    'hidden_layer_sizes': [(32,64),(64,128),(32,64,128)],\n",
    "    'activation': ['logistic','relu'],\n",
    "    'batch_size': [32,64,128],\n",
    "    'learning_rate_init': [0.005,0.01,0.05],\n",
    "    'max_iter': [10000],\n",
    "    'tol': [0.0001,0.0005,0.00005],\n",
    "    'random_state': [0]\n",
    "  }\n",
    "\n",
    "begin = datetime.now()\n",
    "\n",
    "reg_ann = MLPRegressor()\n",
    "\n",
    "grid_reg_ann = GridSearchCV(estimator=reg_ann, param_grid=params_ann, n_jobs=19)\n",
    "grid_reg_ann.fit(X_train, y_train)\n",
    "\n",
    "end = datetime.now()\n",
    "training_time_ann = end-begin"
   ]
  },
  {
   "cell_type": "code",
   "execution_count": 26,
   "metadata": {},
   "outputs": [
    {
     "name": "stdout",
     "output_type": "stream",
     "text": [
      "2:16:59.423874\n"
     ]
    }
   ],
   "source": [
    "print(training_time_ann)"
   ]
  },
  {
   "cell_type": "code",
   "execution_count": 138,
   "metadata": {},
   "outputs": [
    {
     "data": {
      "text/plain": [
       "{'activation': 'relu',\n",
       " 'batch_size': 128,\n",
       " 'hidden_layer_sizes': (64, 128),\n",
       " 'learning_rate_init': 0.01,\n",
       " 'max_iter': 10000,\n",
       " 'random_state': 0,\n",
       " 'tol': 0.0001}"
      ]
     },
     "execution_count": 138,
     "metadata": {},
     "output_type": "execute_result"
    }
   ],
   "source": [
    "# Configuracao de hiperparametros do melhor modelo\n",
    "grid_reg_ann.best_params_"
   ]
  },
  {
   "cell_type": "code",
   "execution_count": 140,
   "metadata": {},
   "outputs": [
    {
     "data": {
      "text/plain": [
       "0.9430086687857635"
      ]
     },
     "execution_count": 140,
     "metadata": {},
     "output_type": "execute_result"
    }
   ],
   "source": [
    "# R2 do melhor modelo com amostra de treino\n",
    "grid_reg_ann.best_score_"
   ]
  },
  {
   "cell_type": "code",
   "execution_count": 112,
   "metadata": {},
   "outputs": [
    {
     "data": {
      "text/plain": [
       "310"
      ]
     },
     "execution_count": 112,
     "metadata": {},
     "output_type": "execute_result"
    }
   ],
   "source": [
    "# numero de iteracoes do melhor modelo\n",
    "best_ann.n_iter_"
   ]
  },
  {
   "cell_type": "code",
   "execution_count": 133,
   "metadata": {},
   "outputs": [],
   "source": [
    "best_ann = grid_reg_ann.best_estimator_"
   ]
  },
  {
   "cell_type": "code",
   "execution_count": 139,
   "metadata": {},
   "outputs": [
    {
     "name": "stdout",
     "output_type": "stream",
     "text": [
      "The R² on training set: 0.9749\n",
      "The R² on test set: 0.9452\n",
      "The RMSE on training set: 5.9748\n",
      "The RMSE on test set: 8.7585\n",
      "The mean absolute error (MAE) on training set: 4.2938\n",
      "The mean absolute error (MAE) on test set: 5.9235\n",
      "The AE95 on training set: 12.0531\n",
      "The AE95 on test set: 18.8513\n"
     ]
    }
   ],
   "source": [
    "print(\"The R² on training set: {:.4f}\".format(r2_score(y_train, best_ann.predict(X_train))))\n",
    "print(\"The R² on test set: {:.4f}\".format(r2_score(y_test, best_ann.predict(X_test))))\n",
    "\n",
    "rmse = (mean_squared_error(y_train, best_ann.predict(X_train)))**(1/2)\n",
    "print(\"The RMSE on training set: {:.4f}\".format(rmse))\n",
    "rmse = (mean_squared_error(y_test, best_ann.predict(X_test)))**(1/2)\n",
    "print(\"The RMSE on test set: {:.4f}\".format(rmse))\n",
    "\n",
    "mae = mean_absolute_error(y_train, best_ann.predict(X_train))\n",
    "print(\"The mean absolute error (MAE) on training set: {:.4f}\".format(mae))\n",
    "mae = mean_absolute_error(y_test, best_ann.predict(X_test))\n",
    "print(\"The mean absolute error (MAE) on test set: {:.4f}\".format(mae))\n",
    "\n",
    "diff = y_train - best_ann.predict(X_train)\n",
    "diff = (diff**2)**(1/2)\n",
    "print(\"The AE95 on training set: {:.4f}\".format(diff.quantile(.95)))\n",
    "diff = y_test - best_ann.predict(X_test)\n",
    "diff = (diff**2)**(1/2)\n",
    "print(\"The AE95 on test set: {:.4f}\".format(diff.quantile(.95)))"
   ]
  },
  {
   "cell_type": "code",
   "execution_count": 187,
   "metadata": {},
   "outputs": [
    {
     "data": {
      "image/png": "[encoded data removed]",
      "text/plain": [
       "<Figure size 576x576 with 1 Axes>"
      ]
     },
     "metadata": {
      "needs_background": "light"
     },
     "output_type": "display_data"
    }
   ],
   "source": [
    "### plot amsotra treino\n",
    "# fig = plt.figure(figsize=(12, 12))\n",
    "# plt.subplot(1, 1, 1)\n",
    "fig, ax = plt.subplots(figsize= (8,8))\n",
    "ax.scatter(y_train, best_ann.predict(X_train), s = 10, alpha = .1)\n",
    "ax.plot([y.min(), y.max()], [y.min(), y.max()], 'k--', lw=1)\n",
    "ax.set_xlabel('Simulado [kWh/m²ano]',fontsize=22)\n",
    "ax.set_ylabel('Predito [kWh/m²ano]',fontsize=22)\n",
    "# fig.tight_layout()\n",
    "plt.show()"
   ]
  },
  {
   "cell_type": "code",
   "execution_count": 188,
   "metadata": {},
   "outputs": [
    {
     "data": {
      "image/png": "[encoded data removed]",
      "text/plain": [
       "<Figure size 576x576 with 1 Axes>"
      ]
     },
     "metadata": {
      "needs_background": "light"
     },
     "output_type": "display_data"
    }
   ],
   "source": [
    "### amostra teste\n",
    "\n",
    "fig, ax = plt.subplots(figsize= (8,8))\n",
    "ax.scatter(y_test, best_ann.predict(X_test), s = 10, alpha = .1)\n",
    "ax.plot([y.min(), y.max()], [y.min(), y.max()], 'k--', lw=1)\n",
    "ax.set_xlabel('Simulado [kWh/m²ano]',fontsize=22)\n",
    "ax.set_ylabel('Predito [kWh/m²ano]',fontsize=22)\n",
    "plt.show()"
   ]
  },
  {
   "cell_type": "markdown",
   "metadata": {},
   "source": [
    "## Treinamento do GBM"
   ]
  },
  {
   "cell_type": "code",
   "execution_count": 36,
   "metadata": {
    "id": "THVxLfP2HeoC"
   },
   "outputs": [
    {
     "name": "stderr",
     "output_type": "stream",
     "text": [
      "/home/marcelo/plutopy/lib/python3.6/site-packages/sklearn/model_selection/_search.py:921: UserWarning: One or more of the test scores are non-finite: [       nan        nan        nan        nan        nan        nan\n",
      "        nan        nan        nan        nan        nan        nan\n",
      "        nan        nan        nan        nan        nan        nan\n",
      "        nan        nan        nan        nan        nan        nan\n",
      "        nan        nan        nan 0.68552203 0.91417222 0.98037067\n",
      " 0.68552203 0.91420458 0.98025408 0.68552203 0.91401373 0.97990353\n",
      " 0.79887319 0.96560698 0.98874014 0.79879838 0.96570338 0.98896666\n",
      " 0.79873877 0.96474077 0.9889074  0.86508113 0.98227405 0.98826364\n",
      " 0.86487194 0.98237671 0.98855295 0.86409019 0.98137198 0.98862466\n",
      "        nan        nan        nan        nan        nan        nan\n",
      "        nan        nan        nan        nan        nan        nan\n",
      "        nan        nan        nan        nan        nan        nan\n",
      "        nan        nan        nan        nan        nan        nan\n",
      "        nan        nan        nan 0.77343809 0.94339694 0.98623839\n",
      " 0.77343809 0.94308678 0.98595732 0.77343809 0.94320876 0.98583378\n",
      " 0.88011314 0.97908497 0.98974844 0.87976622 0.97876096 0.98989911\n",
      " 0.87962026 0.9783169  0.98997755 0.9341017  0.98609607 0.98863429\n",
      " 0.9338707  0.98614241 0.98907588 0.93273179 0.98589019 0.98917553\n",
      "        nan        nan        nan        nan        nan        nan\n",
      "        nan        nan        nan        nan        nan        nan\n",
      "        nan        nan        nan        nan        nan        nan\n",
      "        nan        nan        nan        nan        nan        nan\n",
      "        nan        nan        nan 0.91556967 0.98080898 0.98963634\n",
      " 0.91551473 0.98081309 0.98995602 0.91540857 0.98045665 0.99000268\n",
      " 0.96625244 0.98899487 0.99075708 0.96608307 0.98900147 0.99104946\n",
      " 0.9656776  0.98907917 0.99135508 0.98224836 0.98810269 0.98850611\n",
      " 0.98203289 0.98844627 0.98912312 0.98125041 0.98849829 0.98937444]\n",
      "  category=UserWarning\n"
     ]
    }
   ],
   "source": [
    "params = {\n",
    "    'max_depth': [3,5,7], \n",
    "    'n_estimators': [400,4000,40000],\n",
    "    'min_samples_split': [2,50,100],\n",
    "    'learning_rate': [0.005,0.01,0.05],  # [0.005,0.01,0.05],\n",
    "    'loss': ['ls''lad','huber'],  # ],  # , \n",
    "    'random_state': [0] \n",
    "  }\n",
    "\n",
    "begin = datetime.now()\n",
    "\n",
    "reg = ensemble.GradientBoostingRegressor() # **params\n",
    "\n",
    "grid_reg = GridSearchCV(estimator=reg, param_grid=params, n_jobs=19)\n",
    "grid_reg.fit(X_train, y_train)\n",
    "\n",
    "end = datetime.now()\n",
    "training_time = end-begin"
   ]
  },
  {
   "cell_type": "code",
   "execution_count": 37,
   "metadata": {},
   "outputs": [
    {
     "name": "stdout",
     "output_type": "stream",
     "text": [
      "17:01:11.041949\n"
     ]
    }
   ],
   "source": [
    "print(training_time)"
   ]
  },
  {
   "cell_type": "code",
   "execution_count": 38,
   "metadata": {
    "id": "MhwOWzGz4jZc"
   },
   "outputs": [
    {
     "data": {
      "text/plain": [
       "{'learning_rate': 0.05,\n",
       " 'loss': 'huber',\n",
       " 'max_depth': 5,\n",
       " 'min_samples_split': 100,\n",
       " 'n_estimators': 40000,\n",
       " 'random_state': 0}"
      ]
     },
     "execution_count": 38,
     "metadata": {},
     "output_type": "execute_result"
    }
   ],
   "source": [
    "grid_reg.best_params_"
   ]
  },
  {
   "cell_type": "code",
   "execution_count": 41,
   "metadata": {
    "id": "6CUMxSyc4U3L"
   },
   "outputs": [
    {
     "data": {
      "text/plain": [
       "0.9913550766077066"
      ]
     },
     "execution_count": 41,
     "metadata": {},
     "output_type": "execute_result"
    }
   ],
   "source": [
    "grid_reg.best_score_"
   ]
  },
  {
   "cell_type": "code",
   "execution_count": 40,
   "metadata": {},
   "outputs": [],
   "source": [
    "best_reg = grid_reg.best_estimator_"
   ]
  },
  {
   "cell_type": "code",
   "execution_count": 169,
   "metadata": {},
   "outputs": [
    {
     "name": "stdout",
     "output_type": "stream",
     "text": [
      "The R² on training set: 0.9990\n",
      "The R² on test set: 0.9913\n",
      "The RMSE on training set: 1.1736\n",
      "The RMSE on test set: 3.4838\n",
      "The mean absolute error (MAE) on training set: 0.4824\n",
      "The mean absolute error (MAE) on test set: 1.9789\n",
      "The AE95 on training set: 1.5208\n",
      "The AE95 on test set: 6.8850\n"
     ]
    }
   ],
   "source": [
    "print(\"The R² on training set: {:.4f}\".format(r2_score(y_train, best_reg.predict(X_train))))\n",
    "print(\"The R² on test set: {:.4f}\".format(r2_score(y_test, best_reg.predict(X_test))))\n",
    "\n",
    "rmse = (mean_squared_error(y_train, best_reg.predict(X_train)))**(1/2)\n",
    "print(\"The RMSE on training set: {:.4f}\".format(rmse))\n",
    "rmse = (mean_squared_error(y_test, best_reg.predict(X_test)))**(1/2)\n",
    "print(\"The RMSE on test set: {:.4f}\".format(rmse))\n",
    "\n",
    "mae = mean_absolute_error(y_train, best_reg.predict(X_train))\n",
    "print(\"The mean absolute error (MAE) on training set: {:.4f}\".format(mae))\n",
    "mae = mean_absolute_error(y_test, best_reg.predict(X_test))\n",
    "print(\"The mean absolute error (MAE) on test set: {:.4f}\".format(mae))\n",
    "\n",
    "diff = y_train - best_reg.predict(X_train)\n",
    "diff = (diff**2)**(1/2)\n",
    "print(\"The AE95 on training set: {:.4f}\".format(diff.quantile(.95)))\n",
    "diff = y_test - best_reg.predict(X_test)\n",
    "diff = (diff**2)**(1/2)\n",
    "print(\"The AE95 on test set: {:.4f}\".format(diff.quantile(.95)))"
   ]
  },
  {
   "cell_type": "code",
   "execution_count": 168,
   "metadata": {
    "id": "VBA9PaU47a4G"
   },
   "outputs": [
    {
     "data": {
      "image/png": "[encoded data removed]",
      "text/plain": [
       "<Figure size 864x864 with 1 Axes>"
      ]
     },
     "metadata": {
      "needs_background": "light"
     },
     "output_type": "display_data"
    }
   ],
   "source": [
    "### treinamento\n",
    "\n",
    "test_score = np.zeros((params['n_estimators'][-1],), dtype=np.float64)\n",
    "for i, y_pred in enumerate(best_reg.staged_predict(X_test)):\n",
    "    test_score[i] = best_reg.loss_(y_test, y_pred)\n",
    "\n",
    "fig = plt.figure(figsize=(12, 12))\n",
    "plt.subplot(1, 1, 1)\n",
    "plt.title('Deviance')\n",
    "plt.plot((np.arange(params['n_estimators'][-1]) + 1), best_reg.train_score_, 'b-',\n",
    "         label='Training Set Deviance')\n",
    "plt.plot((np.arange(params['n_estimators'][-1]) + 1), test_score, 'r-',\n",
    "         label='Test Set Deviance')\n",
    "plt.legend(loc='upper right')\n",
    "plt.xlabel('Boosting Iterations')\n",
    "plt.ylabel('Deviance')\n",
    "fig.tight_layout()\n",
    "plt.show()"
   ]
  },
  {
   "cell_type": "code",
   "execution_count": 174,
   "metadata": {
    "id": "TubNMDy9jl7W",
    "scrolled": true
   },
   "outputs": [
    {
     "data": {
      "image/png": "[encoded data removed]",
      "text/plain": [
       "<Figure size 576x576 with 1 Axes>"
      ]
     },
     "metadata": {
      "needs_background": "light"
     },
     "output_type": "display_data"
    }
   ],
   "source": [
    "### amsotra treino\n",
    "\n",
    "fig, ax = plt.subplots(figsize=(8,8))\n",
    "ax.scatter(y_train, best_reg.predict(X_train), s = 10, alpha = .1)\n",
    "ax.plot([y.min(), y.max()], [y.min(), y.max()], 'k--', lw=1)\n",
    "ax.set_xlabel('Simulado [kWh/m²ano]',fontsize=22)\n",
    "ax.set_ylabel('Predito [kWh/m²ano]',fontsize=22)\n",
    "plt.show()"
   ]
  },
  {
   "cell_type": "code",
   "execution_count": 175,
   "metadata": {
    "scrolled": true
   },
   "outputs": [
    {
     "data": {
      "image/png": "[encoded data removed]",
      "text/plain": [
       "<Figure size 576x576 with 1 Axes>"
      ]
     },
     "metadata": {
      "needs_background": "light"
     },
     "output_type": "display_data"
    }
   ],
   "source": [
    "### amostra teste\n",
    "\n",
    "fig, ax = plt.subplots(figsize=(8,8))\n",
    "ax.scatter(y_test, best_reg.predict(X_test), s = 10, alpha = .1)\n",
    "ax.plot([y.min(), y.max()], [y.min(), y.max()], 'k--', lw=1)\n",
    "ax.set_xlabel('Simulado [kWh/m²ano]',fontsize=22)\n",
    "ax.set_ylabel('Predito [kWh/m²ano]',fontsize=22)\n",
    "plt.show()"
   ]
  },
  {
   "cell_type": "markdown",
   "metadata": {},
   "source": [
    "## Salvando o modelo"
   ]
  },
  {
   "cell_type": "code",
   "execution_count": 17,
   "metadata": {
    "id": "nyV-SQEVhbz5"
   },
   "outputs": [],
   "source": [
    "import pickle"
   ]
  },
  {
   "cell_type": "code",
   "execution_count": null,
   "metadata": {},
   "outputs": [],
   "source": [
    "filename = 'GBM_21-03-04_2.sav'\n",
    "pickle.dump(grid_reg, open(filename, 'wb'))"
   ]
  },
  {
   "cell_type": "code",
   "execution_count": null,
   "metadata": {},
   "outputs": [],
   "source": [
    "filename = 'ANN_21-03-04_2.sav'\n",
    "pickle.dump(grid_reg_ann, open(filename, 'wb'))"
   ]
  }
 ],
 "metadata": {
  "colab": {
   "name": "plot_gradient_boosting_regression.ipynb",
   "provenance": []
  },
  "kernelspec": {
   "display_name": "Python 3",
   "language": "python",
   "name": "python3"
  },
  "language_info": {
   "codemirror_mode": {
    "name": "ipython",
    "version": 3
   },
   "file_extension": ".py",
   "mimetype": "text/x-python",
   "name": "python",
   "nbconvert_exporter": "python",
   "pygments_lexer": "ipython3",
   "version": "3.6.9"
  }
 },
 "nbformat": 4,
 "nbformat_minor": 1
}
